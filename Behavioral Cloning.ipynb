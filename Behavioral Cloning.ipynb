{
 "cells": [
  {
   "cell_type": "markdown",
   "metadata": {},
   "source": [
    "## Imports and Configurations"
   ]
  },
  {
   "cell_type": "code",
   "execution_count": 2,
   "metadata": {
    "collapsed": false
   },
   "outputs": [
    {
     "name": "stderr",
     "output_type": "stream",
     "text": [
      "Using TensorFlow backend.\n"
     ]
    }
   ],
   "source": [
    "import os.path\n",
    "import pandas as pd\n",
    "import cv2\n",
    "import matplotlib.pyplot as plt\n",
    "import matplotlib.image as mpimg\n",
    "import numpy as np\n",
    "import pickle\n",
    "\n",
    "from keras.models import Sequential\n",
    "from keras.layers.core import Dense, Activation, Flatten\n",
    "from keras.layers.convolutional import Convolution2D\n",
    "from keras.layers.pooling import MaxPooling2D\n",
    "\n",
    "from sklearn.utils import shuffle\n",
    "\n",
    "%matplotlib inline"
   ]
  },
  {
   "cell_type": "code",
   "execution_count": 34,
   "metadata": {
    "collapsed": false
   },
   "outputs": [],
   "source": [
    "# Configurations here\n",
    "driving_logs = ['data/udacity_data/driving_log.csv', 'data/augmented_data/driving_log.csv']\n",
    "\n",
    "flags = {\n",
    "    'augment_data': True,\n",
    "    'train_model': False,\n",
    "    'show_plots': True\n",
    "}"
   ]
  },
  {
   "cell_type": "markdown",
   "metadata": {},
   "source": [
    "## Load and Preprocess Data"
   ]
  },
  {
   "cell_type": "markdown",
   "metadata": {},
   "source": [
    "#### Data Augmentation and Balancing"
   ]
  },
  {
   "cell_type": "code",
   "execution_count": 93,
   "metadata": {
    "collapsed": false
   },
   "outputs": [
    {
     "data": {
      "text/html": [
       "<div>\n",
       "<table border=\"1\" class=\"dataframe\">\n",
       "  <thead>\n",
       "    <tr style=\"text-align: right;\">\n",
       "      <th></th>\n",
       "      <th>center</th>\n",
       "      <th>left</th>\n",
       "      <th>right</th>\n",
       "      <th>steering</th>\n",
       "      <th>throttle</th>\n",
       "      <th>brake</th>\n",
       "      <th>speed</th>\n",
       "    </tr>\n",
       "  </thead>\n",
       "  <tbody>\n",
       "    <tr>\n",
       "      <th>0</th>\n",
       "      <td>IMG/center_2016_12_01_13_30_48_287.jpg</td>\n",
       "      <td>IMG/left_2016_12_01_13_30_48_287.jpg</td>\n",
       "      <td>IMG/right_2016_12_01_13_30_48_287.jpg</td>\n",
       "      <td>0.0</td>\n",
       "      <td>0.0</td>\n",
       "      <td>0.0</td>\n",
       "      <td>22.148290</td>\n",
       "    </tr>\n",
       "    <tr>\n",
       "      <th>1</th>\n",
       "      <td>IMG/center_2016_12_01_13_30_48_404.jpg</td>\n",
       "      <td>IMG/left_2016_12_01_13_30_48_404.jpg</td>\n",
       "      <td>IMG/right_2016_12_01_13_30_48_404.jpg</td>\n",
       "      <td>0.0</td>\n",
       "      <td>0.0</td>\n",
       "      <td>0.0</td>\n",
       "      <td>21.879630</td>\n",
       "    </tr>\n",
       "    <tr>\n",
       "      <th>2</th>\n",
       "      <td>IMG/center_2016_12_01_13_31_12_937.jpg</td>\n",
       "      <td>IMG/left_2016_12_01_13_31_12_937.jpg</td>\n",
       "      <td>IMG/right_2016_12_01_13_31_12_937.jpg</td>\n",
       "      <td>0.0</td>\n",
       "      <td>0.0</td>\n",
       "      <td>0.0</td>\n",
       "      <td>1.453011</td>\n",
       "    </tr>\n",
       "    <tr>\n",
       "      <th>3</th>\n",
       "      <td>IMG/center_2016_12_01_13_31_13_037.jpg</td>\n",
       "      <td>IMG/left_2016_12_01_13_31_13_037.jpg</td>\n",
       "      <td>IMG/right_2016_12_01_13_31_13_037.jpg</td>\n",
       "      <td>0.0</td>\n",
       "      <td>0.0</td>\n",
       "      <td>0.0</td>\n",
       "      <td>1.438419</td>\n",
       "    </tr>\n",
       "    <tr>\n",
       "      <th>4</th>\n",
       "      <td>IMG/center_2016_12_01_13_31_13_177.jpg</td>\n",
       "      <td>IMG/left_2016_12_01_13_31_13_177.jpg</td>\n",
       "      <td>IMG/right_2016_12_01_13_31_13_177.jpg</td>\n",
       "      <td>0.0</td>\n",
       "      <td>0.0</td>\n",
       "      <td>0.0</td>\n",
       "      <td>1.418236</td>\n",
       "    </tr>\n",
       "  </tbody>\n",
       "</table>\n",
       "</div>"
      ],
      "text/plain": [
       "                                   center  \\\n",
       "0  IMG/center_2016_12_01_13_30_48_287.jpg   \n",
       "1  IMG/center_2016_12_01_13_30_48_404.jpg   \n",
       "2  IMG/center_2016_12_01_13_31_12_937.jpg   \n",
       "3  IMG/center_2016_12_01_13_31_13_037.jpg   \n",
       "4  IMG/center_2016_12_01_13_31_13_177.jpg   \n",
       "\n",
       "                                    left  \\\n",
       "0   IMG/left_2016_12_01_13_30_48_287.jpg   \n",
       "1   IMG/left_2016_12_01_13_30_48_404.jpg   \n",
       "2   IMG/left_2016_12_01_13_31_12_937.jpg   \n",
       "3   IMG/left_2016_12_01_13_31_13_037.jpg   \n",
       "4   IMG/left_2016_12_01_13_31_13_177.jpg   \n",
       "\n",
       "                                    right  steering  throttle  brake  \\\n",
       "0   IMG/right_2016_12_01_13_30_48_287.jpg       0.0       0.0    0.0   \n",
       "1   IMG/right_2016_12_01_13_30_48_404.jpg       0.0       0.0    0.0   \n",
       "2   IMG/right_2016_12_01_13_31_12_937.jpg       0.0       0.0    0.0   \n",
       "3   IMG/right_2016_12_01_13_31_13_037.jpg       0.0       0.0    0.0   \n",
       "4   IMG/right_2016_12_01_13_31_13_177.jpg       0.0       0.0    0.0   \n",
       "\n",
       "       speed  \n",
       "0  22.148290  \n",
       "1  21.879630  \n",
       "2   1.453011  \n",
       "3   1.438419  \n",
       "4   1.418236  "
      ]
     },
     "execution_count": 93,
     "metadata": {},
     "output_type": "execute_result"
    }
   ],
   "source": [
    "df = pd.read_csv(os.path.join(data_folder, 'driving_log.csv'))\n",
    "df.head()"
   ]
  },
  {
   "cell_type": "code",
   "execution_count": 99,
   "metadata": {
    "collapsed": false
   },
   "outputs": [
    {
     "data": {
      "text/plain": [
       "Index(['center', 'left', 'right', 'steering', 'throttle', 'brake', 'speed'], dtype='object')"
      ]
     },
     "execution_count": 99,
     "metadata": {},
     "output_type": "execute_result"
    }
   ],
   "source": [
    "df.iloc[0].values\n",
    "df.columns"
   ]
  },
  {
   "cell_type": "code",
   "execution_count": 38,
   "metadata": {
    "collapsed": true
   },
   "outputs": [],
   "source": [
    "def augment_brightness(image):\n",
    "    # Randomly select a percentage change\n",
    "    random_bright = 0.25 + np.random.uniform()\n",
    "    \n",
    "    # Change to HSV to change the brightness V\n",
    "    image_augmented = cv2.cvtColor(image,cv2.COLOR_RGB2HSV)\n",
    "    image_augmented[:,:,2] = image_augmented[:,:,2]*random_bright\n",
    "    \n",
    "    # Convert back to RGB\n",
    "    image_augmented = cv2.cvtColor(image_augmented,cv2.COLOR_HSV2RGB)\n",
    "    return image_augmented\n",
    "\n",
    "def mirror_image(image, angle):\n",
    "    image_mirrored = cv2.flip(image,1)\n",
    "    angle = -angle\n",
    "    return image_mirrored, angle\n",
    "\n",
    "def perturb_angle(angle):\n",
    "    new_angle = angle * (1.0 + np.random.uniform(-1, 1)/30.0)\n",
    "    return new_angle"
   ]
  },
  {
   "cell_type": "code",
   "execution_count": 88,
   "metadata": {
    "collapsed": false
   },
   "outputs": [
    {
     "name": "stdout",
     "output_type": "stream",
     "text": [
      "(27711, 160, 320, 3)\n",
      "(27711,)\n",
      "Execution Time (secs): 29.355199813842773\n"
     ]
    },
    {
     "data": {
      "image/png": "[encoded data removed]",
      "text/plain": [
       "<matplotlib.figure.Figure at 0x7f3b93b97518>"
      ]
     },
     "metadata": {},
     "output_type": "display_data"
    }
   ],
   "source": [
    "import time\n",
    "start = time.time()\n",
    "\n",
    "# Load training data\n",
    "df = pd.read_csv(os.path.join(data_folder, 'driving_log.csv'))\n",
    "df_aug = pd.DataFrame(index=df.index)\n",
    "# for index, row in df.iterrows():\n",
    "#     img = mpimg.imread(os.path.join(data_folder, row['center']))\n",
    "#     img = img[np.newaxis, ...]\n",
    "#     images.append(img)\n",
    "\n",
    "X_train = np.concatenate(images, axis=0)\n",
    "y_train = df['steering'].values\n",
    "\n",
    "# Mirror Images\n",
    "turn_indexes = ([i for i,v in enumerate(y_train) if v != 0])\n",
    "augmented = []\n",
    "augmented_angles = []\n",
    "\n",
    "for j in range(1000):\n",
    "    index = np.random.choice(turn_indexes)\n",
    "    mirror = bool(random.randint(0,1))\n",
    "    perturb = bool(random.randint(0,1))\n",
    "    brighten = bool(random.randint(0,1))\n",
    "    \n",
    "    path = df.iloc[index]['center']\n",
    "    image = mpimg.imread('data/udacity_data/' + path)\n",
    "    angle = df.iloc[index]['steering']\n",
    "    \n",
    "    if mirror:\n",
    "        image, angle = mirror_image(image, angle)\n",
    "    if perturb:\n",
    "        angle = perturb_angle(perturb)\n",
    "    if brighten:\n",
    "        image = augment_brightness(image)\n",
    "    \n",
    "    image = image[np.newaxis, ...]\n",
    "    augmented.append(image)\n",
    "    augmented_angles.append(angle)\n",
    "\n",
    "offset = 0\n",
    "for i, image in enumerate(augmented):\n",
    "    # restart here\n",
    "\n",
    "end = time.time()\n",
    "\n",
    "y_augmented = np.concatenate((y_train, np.array(augmented_angles)), axis=0)\n",
    "plt.hist(y_augmented, bins=50)\n",
    "print(X_augmented.shape)\n",
    "print(y_augmented.shape)\n",
    "print(\"Execution Time (secs):\", end - start)"
   ]
  },
  {
   "cell_type": "code",
   "execution_count": 89,
   "metadata": {
    "collapsed": false
   },
   "outputs": [
    {
     "name": "stdout",
     "output_type": "stream",
     "text": [
      "4059\n"
     ]
    }
   ],
   "source": [
    "print(X_augmented.nbytes // 2**20)"
   ]
  },
  {
   "cell_type": "code",
   "execution_count": 39,
   "metadata": {
    "collapsed": false
   },
   "outputs": [
    {
     "data": {
      "image/png": "[encoded data removed]",
      "text/plain": [
       "<matplotlib.figure.Figure at 0x7f3b004dfc88>"
      ]
     },
     "metadata": {},
     "output_type": "display_data"
    }
   ],
   "source": [
    "if flags['show_plots']:\n",
    "    plt.hist(y_train, bins=[-1, -.01, .01, 1])"
   ]
  },
  {
   "cell_type": "markdown",
   "metadata": {},
   "source": [
    "#### Plots"
   ]
  },
  {
   "cell_type": "code",
   "execution_count": 41,
   "metadata": {
    "collapsed": false
   },
   "outputs": [
    {
     "data": {
      "image/png": "[encoded data removed]",
      "text/plain": [
       "<matplotlib.figure.Figure at 0x7f3b9425b4a8>"
      ]
     },
     "metadata": {},
     "output_type": "display_data"
    }
   ],
   "source": [
    "if flags['show_plots']:\n",
    "    plt.hist(y_train, bins=50)"
   ]
  },
  {
   "cell_type": "code",
   "execution_count": 37,
   "metadata": {
    "collapsed": false
   },
   "outputs": [],
   "source": [
    "if flags['show_plots']:\n",
    "    plt.figure(figsize=(16,5))\n",
    "    plt.plot(y_train[0:1000])"
   ]
  },
  {
   "cell_type": "markdown",
   "metadata": {},
   "source": [
    "#### Balance Dataset"
   ]
  },
  {
   "cell_type": "markdown",
   "metadata": {},
   "source": [
    "## Setup and Train Network"
   ]
  },
  {
   "cell_type": "code",
   "execution_count": 41,
   "metadata": {
    "collapsed": false
   },
   "outputs": [],
   "source": [
    "model = Sequential()\n",
    "\n",
    "\n",
    "model.add(Convolution2D(48, 11, 11, subsample=(4,4), input_shape=(160, 320, 3))) # 38 x 78\n",
    "model.add(Activation('relu'))\n",
    "model.add(MaxPooling2D((2,2))) # 18 x 38\n",
    "\n",
    "\n",
    "model.add(Convolution2D(256, 5, 5)) # 16 x 36\n",
    "model.add(Activation('relu'))\n",
    "model.add(MaxPooling2D((2,2))) # 8 x 18\n",
    "\n",
    "model.add(Convolution2D(384, 3, 3, border_mode='same')) # 8 x 18\n",
    "model.add(Activation('relu'))\n",
    "\n",
    "model.add(Convolution2D(384, 3, 3, border_mode='same')) # 8 x 18\n",
    "model.add(Activation('relu'))\n",
    "\n",
    "model.add(Convolution2D(128, 3, 3, border_mode='same')) # 8 x 18\n",
    "model.add(Activation('relu'))\n",
    "model.add(MaxPooling2D((2,3))) # 4 x 6\n",
    "\n",
    "model.add(Flatten())\n",
    "model.add(Dense(3072))\n",
    "model.add(Dense(3072))\n",
    "model.add(Dense(1))"
   ]
  },
  {
   "cell_type": "code",
   "execution_count": 42,
   "metadata": {
    "collapsed": false
   },
   "outputs": [
    {
     "name": "stdout",
     "output_type": "stream",
     "text": [
      "Train on 6428 samples, validate on 1608 samples\n",
      "Epoch 1/8\n",
      "6428/6428 [==============================] - 53s - loss: 1.7178 - val_loss: 0.0178\n",
      "Epoch 2/8\n",
      "6428/6428 [==============================] - 40s - loss: 0.0168 - val_loss: 0.0172\n",
      "Epoch 3/8\n",
      "6428/6428 [==============================] - 40s - loss: 0.0168 - val_loss: 0.0166\n",
      "Epoch 4/8\n",
      "6428/6428 [==============================] - 40s - loss: 0.0168 - val_loss: 0.0164\n",
      "Epoch 5/8\n",
      "6428/6428 [==============================] - 40s - loss: 0.0168 - val_loss: 0.0164\n",
      "Epoch 6/8\n",
      "6428/6428 [==============================] - 40s - loss: 0.0168 - val_loss: 0.0170\n",
      "Epoch 7/8\n",
      "6428/6428 [==============================] - 40s - loss: 0.0170 - val_loss: 0.0165\n",
      "Epoch 8/8\n",
      "6428/6428 [==============================] - 40s - loss: 0.0172 - val_loss: 0.0165\n"
     ]
    }
   ],
   "source": [
    "if flags['train_model']:\n",
    "    model.compile('adam', 'mse')\n",
    "    model.fit(X_train, y_train, nb_epoch=8, batch_size=128, validation_split=.2)\n",
    "    model.save('model.h5')"
   ]
  }
 ],
 "metadata": {
  "kernelspec": {
   "display_name": "Python 3",
   "language": "python",
   "name": "python3"
  },
  "language_info": {
   "codemirror_mode": {
    "name": "ipython",
    "version": 3
   },
   "file_extension": ".py",
   "mimetype": "text/x-python",
   "name": "python",
   "nbconvert_exporter": "python",
   "pygments_lexer": "ipython3",
   "version": "3.5.2"
  },
  "widgets": {
   "state": {},
   "version": "1.1.2"
  }
 },
 "nbformat": 4,
 "nbformat_minor": 2
}

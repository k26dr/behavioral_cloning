{
 "cells": [
  {
   "cell_type": "markdown",
   "metadata": {},
   "source": [
    "## Imports and Configurations"
   ]
  },
  {
   "cell_type": "code",
   "execution_count": 163,
   "metadata": {
    "collapsed": false
   },
   "outputs": [],
   "source": [
    "import os.path\n",
    "import pandas as pd\n",
    "import cv2\n",
    "import matplotlib.pyplot as plt\n",
    "import matplotlib.image as mpimg\n",
    "import numpy as np\n",
    "import pickle\n",
    "import random\n",
    "import scipy.misc\n",
    "import time\n",
    "import shutil\n",
    "from sklearn.model_selection import train_test_split\n",
    "\n",
    "from keras.models import Sequential\n",
    "from keras.layers import Input, Lambda\n",
    "from keras.layers.core import Dense, Activation, Flatten, Reshape, Dropout\n",
    "from keras.layers.convolutional import Convolution2D, ZeroPadding2D, Cropping2D\n",
    "from keras.layers.pooling import MaxPooling2D\n",
    "from keras.optimizers import Adam\n",
    "from keras.layers.advanced_activations import LeakyReLU\n",
    "\n",
    "from sklearn.utils import shuffle\n",
    "\n",
    "%matplotlib inline"
   ]
  },
  {
   "cell_type": "code",
   "execution_count": 164,
   "metadata": {
    "collapsed": false
   },
   "outputs": [],
   "source": [
    "# Configurations here\n",
    "\n",
    "flags = {\n",
    "    'augment_data': False,\n",
    "    'train_model': True,\n",
    "    'show_plots': True,\n",
    "    'show_images': False,\n",
    "    'downsample_straight': True,\n",
    "    'distribution': 'uniform',\n",
    "    'model': 'nvidia',\n",
    "    'straight_keep_num': 500,\n",
    "    'augment_count': 15000,\n",
    "    'dropout': 0.25\n",
    "}"
   ]
  },
  {
   "cell_type": "markdown",
   "metadata": {},
   "source": [
    "## Load and Preprocess Data"
   ]
  },
  {
   "cell_type": "markdown",
   "metadata": {},
   "source": [
    "#### Data Augmentation and Balancing"
   ]
  },
  {
   "cell_type": "code",
   "execution_count": 165,
   "metadata": {
    "collapsed": false
   },
   "outputs": [],
   "source": [
    "def augment_brightness(image):\n",
    "    # Randomly select a percentage change\n",
    "    random_bright = 0.25 + np.random.uniform()\n",
    "    \n",
    "    # Change to HSV to change the brightness V\n",
    "    image_augmented = cv2.cvtColor(image,cv2.COLOR_RGB2HSV)\n",
    "    image_augmented[:,:,2] = image_augmented[:,:,2]*random_bright\n",
    "    \n",
    "    # Convert back to RGB\n",
    "    image_augmented = cv2.cvtColor(image_augmented,cv2.COLOR_HSV2RGB)\n",
    "    return image_augmented\n",
    "\n",
    "def mirror_image(image, angle):\n",
    "    image_mirrored = cv2.flip(image,1)\n",
    "    angle = -angle\n",
    "    return image_mirrored, angle\n",
    "\n",
    "def perturb_angle(angle):\n",
    "    new_angle = angle * (1.0 + np.random.uniform(-1, 1)/30.0)\n",
    "    return new_angle\n",
    "\n",
    "def augment_image(image, angle):\n",
    "    mirror = bool(random.randint(0,1))\n",
    "    perturb = bool(random.randint(0,1))\n",
    "    brighten = bool(random.randint(0,1))\n",
    "    \n",
    "    if mirror:\n",
    "        image, angle = mirror_image(image, angle)\n",
    "    if perturb:\n",
    "        angle = perturb_angle(angle)\n",
    "    if brighten:\n",
    "        image = augment_brightness(image)\n",
    "        \n",
    "    return image, angle\n",
    "\n",
    "def create_save_augmented_images(count, distribution='normal'):\n",
    "    df = pd.read_csv('data/udacity_data/driving_log.csv')\n",
    "    df_aug = pd.DataFrame(columns=df.columns, index=df.index)\n",
    "    \n",
    "    binned =  np.digitize(df['steering'].values, np.arange(-1, 1, 0.1))\n",
    "    binned_indexes = []\n",
    "    for i in range(21):\n",
    "        binned_indexes.append([j for j,v in enumerate(binned) if v == i])\n",
    "    valid_bins = [i for i,v in enumerate(binned_indexes) if len(v) > 0]\n",
    "    valid_bins.remove(11) # no straights\n",
    "    \n",
    "    \n",
    "    for j in range(count):\n",
    "        while True:\n",
    "            if distribution == 'uniform':\n",
    "                bin = np.random.choice(valid_bins)\n",
    "                index = np.random.choice(binned_indexes[bin])\n",
    "            elif distribution == 'normal':\n",
    "                index = np.random.choice(len(df))\n",
    "            elif distribution == 'fat_tail':\n",
    "                switch = bool(random.randint(0,1))\n",
    "                if switch:\n",
    "                    bin = np.random.choice(valid_bins)\n",
    "                    index = np.random.choice(binned_indexes[bin])\n",
    "                else:\n",
    "                    index = np.random.choice(len(df))\n",
    "            if df.loc[index]['steering'] != 0:\n",
    "                break\n",
    "            \n",
    "        path = 'data/udacity_data/' + df.loc[index]['center']\n",
    "        image = mpimg.imread(path)\n",
    "        angle = df.iloc[index]['steering']\n",
    "        \n",
    "        image, angle = augment_image(image, angle)\n",
    "        \n",
    "        df_aug.loc[j] = df.iloc[index].values\n",
    "        df_aug.set_value(j, 'steering', angle)\n",
    "        filename = 'IMG/augmented_{0}.jpg'.format(j)\n",
    "        filepath = 'data/augmented_data/' + filename\n",
    "        df_aug.set_value(j, 'center', filename)\n",
    "        scipy.misc.imsave(filepath, image)\n",
    "        if j % 1000 == 0:\n",
    "            print('{} images complete'.format(j))\n",
    "    \n",
    "    df_aug.dropna().to_csv('data/augmented_data/driving_log.csv', index=False)"
   ]
  },
  {
   "cell_type": "code",
   "execution_count": 166,
   "metadata": {
    "collapsed": false
   },
   "outputs": [],
   "source": [
    "if flags['augment_data']:\n",
    "    start = time.time()\n",
    "    create_save_augmented_images(flags['augment_count'], flags['distribution'])\n",
    "    end = time.time()\n",
    "    print(\"Execution Time (secs):\", end - start)"
   ]
  },
  {
   "cell_type": "markdown",
   "metadata": {},
   "source": [
    "#### Load Data"
   ]
  },
  {
   "cell_type": "code",
   "execution_count": 167,
   "metadata": {
    "collapsed": false
   },
   "outputs": [
    {
     "data": {
      "text/html": [
       "<div>\n",
       "<table border=\"1\" class=\"dataframe\">\n",
       "  <thead>\n",
       "    <tr style=\"text-align: right;\">\n",
       "      <th></th>\n",
       "      <th>center</th>\n",
       "      <th>left</th>\n",
       "      <th>right</th>\n",
       "      <th>steering</th>\n",
       "      <th>throttle</th>\n",
       "      <th>brake</th>\n",
       "      <th>speed</th>\n",
       "    </tr>\n",
       "  </thead>\n",
       "  <tbody>\n",
       "    <tr>\n",
       "      <th>25739</th>\n",
       "      <td>IMG/center_2017_02_02_16_55_28_644.jpg</td>\n",
       "      <td>IMG/left_2017_02_02_16_55_28_644.jpg</td>\n",
       "      <td>IMG/right_2017_02_02_16_55_28_644.jpg</td>\n",
       "      <td>0.0</td>\n",
       "      <td>0.0</td>\n",
       "      <td>0.0</td>\n",
       "      <td>4.196266</td>\n",
       "    </tr>\n",
       "    <tr>\n",
       "      <th>25740</th>\n",
       "      <td>IMG/center_2017_02_02_16_55_28_747.jpg</td>\n",
       "      <td>IMG/left_2017_02_02_16_55_28_747.jpg</td>\n",
       "      <td>IMG/right_2017_02_02_16_55_28_747.jpg</td>\n",
       "      <td>0.0</td>\n",
       "      <td>0.0</td>\n",
       "      <td>0.0</td>\n",
       "      <td>4.152821</td>\n",
       "    </tr>\n",
       "    <tr>\n",
       "      <th>25741</th>\n",
       "      <td>IMG/center_2017_02_02_16_55_28_850.jpg</td>\n",
       "      <td>IMG/left_2017_02_02_16_55_28_850.jpg</td>\n",
       "      <td>IMG/right_2017_02_02_16_55_28_850.jpg</td>\n",
       "      <td>0.0</td>\n",
       "      <td>0.0</td>\n",
       "      <td>0.0</td>\n",
       "      <td>4.109815</td>\n",
       "    </tr>\n",
       "    <tr>\n",
       "      <th>25742</th>\n",
       "      <td>IMG/center_2017_02_02_16_55_28_954.jpg</td>\n",
       "      <td>IMG/left_2017_02_02_16_55_28_954.jpg</td>\n",
       "      <td>IMG/right_2017_02_02_16_55_28_954.jpg</td>\n",
       "      <td>0.0</td>\n",
       "      <td>0.0</td>\n",
       "      <td>0.0</td>\n",
       "      <td>4.067245</td>\n",
       "    </tr>\n",
       "    <tr>\n",
       "      <th>25743</th>\n",
       "      <td>IMG/center_2017_02_02_16_55_29_062.jpg</td>\n",
       "      <td>IMG/left_2017_02_02_16_55_29_062.jpg</td>\n",
       "      <td>IMG/right_2017_02_02_16_55_29_062.jpg</td>\n",
       "      <td>0.0</td>\n",
       "      <td>0.0</td>\n",
       "      <td>0.0</td>\n",
       "      <td>4.016730</td>\n",
       "    </tr>\n",
       "  </tbody>\n",
       "</table>\n",
       "</div>"
      ],
      "text/plain": [
       "                                       center  \\\n",
       "25739  IMG/center_2017_02_02_16_55_28_644.jpg   \n",
       "25740  IMG/center_2017_02_02_16_55_28_747.jpg   \n",
       "25741  IMG/center_2017_02_02_16_55_28_850.jpg   \n",
       "25742  IMG/center_2017_02_02_16_55_28_954.jpg   \n",
       "25743  IMG/center_2017_02_02_16_55_29_062.jpg   \n",
       "\n",
       "                                        left  \\\n",
       "25739   IMG/left_2017_02_02_16_55_28_644.jpg   \n",
       "25740   IMG/left_2017_02_02_16_55_28_747.jpg   \n",
       "25741   IMG/left_2017_02_02_16_55_28_850.jpg   \n",
       "25742   IMG/left_2017_02_02_16_55_28_954.jpg   \n",
       "25743   IMG/left_2017_02_02_16_55_29_062.jpg   \n",
       "\n",
       "                                        right  steering  throttle  brake  \\\n",
       "25739   IMG/right_2017_02_02_16_55_28_644.jpg       0.0       0.0    0.0   \n",
       "25740   IMG/right_2017_02_02_16_55_28_747.jpg       0.0       0.0    0.0   \n",
       "25741   IMG/right_2017_02_02_16_55_28_850.jpg       0.0       0.0    0.0   \n",
       "25742   IMG/right_2017_02_02_16_55_28_954.jpg       0.0       0.0    0.0   \n",
       "25743   IMG/right_2017_02_02_16_55_29_062.jpg       0.0       0.0    0.0   \n",
       "\n",
       "          speed  \n",
       "25739  4.196266  \n",
       "25740  4.152821  \n",
       "25741  4.109815  \n",
       "25742  4.067245  \n",
       "25743  4.016730  "
      ]
     },
     "execution_count": 167,
     "metadata": {},
     "output_type": "execute_result"
    }
   ],
   "source": [
    "df_udacity = pd.read_csv('data/udacity_data/driving_log.csv')\n",
    "df_mirror = pd.read_csv('data/mirrored_data/driving_log.csv')\n",
    "df_aug = pd.read_csv('data/augmented_data/driving_log.csv')\n",
    "df_mine = pd.read_csv('data/my_driving_data/driving_log.csv')\n",
    "df = pd.concat((df_udacity, df_aug, df_mine))\n",
    "df.reset_index(drop=True, inplace=True)\n",
    "df.tail()"
   ]
  },
  {
   "cell_type": "code",
   "execution_count": 168,
   "metadata": {
    "collapsed": false
   },
   "outputs": [
    {
     "name": "stdout",
     "output_type": "stream",
     "text": [
      "                                       center  \\\n",
      "19658  IMG/center_2017_02_02_16_55_24_344.jpg   \n",
      "19659  IMG/center_2017_02_02_16_55_24_470.jpg   \n",
      "19660  IMG/center_2017_02_02_16_55_25_441.jpg   \n",
      "19661  IMG/center_2017_02_02_16_55_26_807.jpg   \n",
      "19662  IMG/center_2017_02_02_16_55_27_820.jpg   \n",
      "\n",
      "                                        left  \\\n",
      "19658   IMG/left_2017_02_02_16_55_24_344.jpg   \n",
      "19659   IMG/left_2017_02_02_16_55_24_470.jpg   \n",
      "19660   IMG/left_2017_02_02_16_55_25_441.jpg   \n",
      "19661   IMG/left_2017_02_02_16_55_26_807.jpg   \n",
      "19662   IMG/left_2017_02_02_16_55_27_820.jpg   \n",
      "\n",
      "                                        right  steering  throttle     brake  \\\n",
      "19658   IMG/right_2017_02_02_16_55_24_344.jpg  0.343383       1.0  0.000000   \n",
      "19659   IMG/right_2017_02_02_16_55_24_470.jpg  0.000000       1.0  0.000000   \n",
      "19660   IMG/right_2017_02_02_16_55_25_441.jpg -0.366753       1.0  0.000000   \n",
      "19661   IMG/right_2017_02_02_16_55_26_807.jpg  0.000000       0.0  1.000000   \n",
      "19662   IMG/right_2017_02_02_16_55_27_820.jpg  0.000000       0.0  0.676474   \n",
      "\n",
      "           speed  \n",
      "19658  30.192210  \n",
      "19659  30.187500  \n",
      "19660  30.169220  \n",
      "19661  20.971610  \n",
      "19662   5.153613  \n"
     ]
    }
   ],
   "source": [
    "if flags['downsample_straight']:\n",
    "    straight_indexes = df[df.steering == 0].index\n",
    "    drop_indexes = np.random.choice(straight_indexes, len(straight_indexes) - flags['straight_keep_num'] , replace=False)\n",
    "    df.drop(drop_indexes, inplace=True)\n",
    "    df.reset_index(drop=True, inplace=True)\n",
    "    print(df.tail())"
   ]
  },
  {
   "cell_type": "code",
   "execution_count": 169,
   "metadata": {
    "collapsed": false
   },
   "outputs": [],
   "source": [
    "# Split and shuffle data\n",
    "num_examples = df['center'].count()\n",
    "indexes = np.arange(0, num_examples)\n",
    "# np.random.shuffle(indexes)\n",
    "train_indexes, val_indexes = train_test_split(indexes, test_size=0.2)\n",
    "df_train = df.loc[train_indexes]\n",
    "df_val = df.loc[val_indexes]"
   ]
  },
  {
   "cell_type": "markdown",
   "metadata": {},
   "source": [
    "#### Plots"
   ]
  },
  {
   "cell_type": "code",
   "execution_count": 170,
   "metadata": {
    "collapsed": false
   },
   "outputs": [
    {
     "data": {
      "image/png": "[encoded data removed]",
      "text/plain": [
       "<matplotlib.figure.Figure at 0x7fcead3a75c0>"
      ]
     },
     "metadata": {},
     "output_type": "display_data"
    }
   ],
   "source": [
    "if flags['show_plots']:    \n",
    "    plt.hist(df['steering'], bins=20)"
   ]
  },
  {
   "cell_type": "code",
   "execution_count": 171,
   "metadata": {
    "collapsed": false
   },
   "outputs": [
    {
     "data": {
      "image/png": "[encoded data removed]",
      "text/plain": [
       "<matplotlib.figure.Figure at 0x7fceb9d0c128>"
      ]
     },
     "metadata": {},
     "output_type": "display_data"
    }
   ],
   "source": [
    "if flags['show_plots']:\n",
    "    plt.figure(figsize=(16,5))\n",
    "    plt.plot(df['steering'].values[0:1000])"
   ]
  },
  {
   "cell_type": "code",
   "execution_count": 172,
   "metadata": {
    "collapsed": false
   },
   "outputs": [],
   "source": [
    "if flags['show_images']:\n",
    "    for i in range(3):\n",
    "        index = np.random.choice(df_udacity.index)\n",
    "        filename = 'data/udacity_data/' + df_udacity['center'][index]\n",
    "        image = mpimg.imread(filename)\n",
    "        plt.figure()\n",
    "        plt.imshow(image)"
   ]
  },
  {
   "cell_type": "markdown",
   "metadata": {},
   "source": [
    "## Setup and Train Network"
   ]
  },
  {
   "cell_type": "markdown",
   "metadata": {},
   "source": [
    "#### Data Generator"
   ]
  },
  {
   "cell_type": "code",
   "execution_count": 173,
   "metadata": {
    "collapsed": false
   },
   "outputs": [],
   "source": [
    "def train_generator(df):\n",
    "    while True:\n",
    "        batch_indexes = np.random.choice(df.index, 128, replace=False)\n",
    "        batch = df.loc[batch_indexes]\n",
    "        images = []\n",
    "        for index, row in batch.iterrows():\n",
    "            filename = row['center']\n",
    "            if 'augmented' in filename:\n",
    "                path = 'data/augmented_data/' + filename\n",
    "            elif 'mirrored' in filename:\n",
    "                path = 'data/mirrored_data/' + filename\n",
    "            elif '2017_02_02' in filename:\n",
    "                path = 'data/my_driving_data/' + filename\n",
    "            else:\n",
    "                path = 'data/udacity_data/' + filename\n",
    "            image = mpimg.imread(path)\n",
    "            image = cv2.resize(image, (200, 66))\n",
    "            image = image[np.newaxis, ...]\n",
    "            images.append(image)\n",
    "        batch_x = np.concatenate(images, axis=0)\n",
    "        batch_y = batch['steering'].values\n",
    "        yield batch_x, batch_y"
   ]
  },
  {
   "cell_type": "markdown",
   "metadata": {},
   "source": [
    "#### Model and Training"
   ]
  },
  {
   "cell_type": "code",
   "execution_count": 174,
   "metadata": {
    "collapsed": false
   },
   "outputs": [],
   "source": [
    "if flags['model'] == 'alexnet':\n",
    "    model = Sequential()\n",
    "    \n",
    "    # Normalize\n",
    "    model.add(Lambda(lambda x: x / 255 - 0.5, input_shape=(227, 227, 3)))\n",
    "    \n",
    "    # Output = 55 x 55\n",
    "    model.add(Convolution2D(48, 11, 11, subsample=(4,4)))\n",
    "    model.add(Activation('relu'))\n",
    "    \n",
    "    # Output = 27 x 27\n",
    "    model.add(MaxPooling2D((3,3), strides=(2,2)))\n",
    "    model.add(Convolution2D(128, 5, 5, border_mode='same'))\n",
    "    model.add(Activation('relu'))\n",
    "    \n",
    "    # Output = 13 x 13\n",
    "    model.add(MaxPooling2D((3,3), strides=(2,2)))\n",
    "    model.add(Convolution2D(192, 3, 3, border_mode='same'))\n",
    "    model.add(Activation('relu'))\n",
    "\n",
    "    # Output = 13 x 13\n",
    "    model.add(Convolution2D(192, 3, 3, border_mode='same'))\n",
    "    model.add(Activation('relu'))\n",
    "    \n",
    "    # Output = 13 x 13\n",
    "    model.add(Convolution2D(128, 3, 3, border_mode='same'))\n",
    "    model.add(Activation('relu'))\n",
    "    \n",
    "    # Output = 4 x 4 x 128\n",
    "    model.add(MaxPooling2D((3,3)))\n",
    "    \n",
    "    model.add(Flatten())\n",
    "    model.add(Dense(512))\n",
    "    model.add(Dense(128))\n",
    "    model.add(Dense(32))\n",
    "    model.add(Dense(1))"
   ]
  },
  {
   "cell_type": "code",
   "execution_count": 175,
   "metadata": {
    "collapsed": false
   },
   "outputs": [],
   "source": [
    "if flags['model'] == 'nvidia':\n",
    "    model = Sequential()\n",
    "\n",
    "    model.add(Lambda(lambda x: x / 255 - 0.5, input_shape=(66, 200, 3)))\n",
    "    \n",
    "    model.add(Convolution2D(24, 5, 5, subsample=(2,2)))\n",
    "    model.add(Activation('relu'))\n",
    "\n",
    "    model.add(Convolution2D(36, 5, 5, subsample=(2,2)))\n",
    "    model.add(Activation('relu'))\n",
    "\n",
    "    model.add(Convolution2D(48, 5, 5, subsample=(2,2)))\n",
    "    model.add(Activation('relu'))\n",
    "\n",
    "    model.add(Convolution2D(64, 3, 3))\n",
    "    model.add(Activation('relu'))\n",
    "\n",
    "    model.add(Convolution2D(64, 3, 3))\n",
    "    model.add(Activation('relu'))\n",
    "    model.add(Dropout(flags['dropout']))\n",
    "\n",
    "    model.add(Flatten())\n",
    "    model.add(Dense(1164))\n",
    "    model.add(Activation('relu'))\n",
    "    model.add(Dropout(flags['dropout']))\n",
    "\n",
    "    model.add(Dense(100))\n",
    "    model.add(Activation('relu'))\n",
    "    model.add(Dropout(flags['dropout']))\n",
    "\n",
    "    model.add(Dense(50))\n",
    "    model.add(Activation('relu'))\n",
    "    model.add(Dropout(flags['dropout']))\n",
    "\n",
    "    model.add(Dense(10))\n",
    "    model.add(Activation('relu'))\n",
    "    model.add(Dropout(flags['dropout']))\n",
    "\n",
    "    model.add(Dense(1))"
   ]
  },
  {
   "cell_type": "code",
   "execution_count": 176,
   "metadata": {
    "collapsed": false
   },
   "outputs": [
    {
     "name": "stdout",
     "output_type": "stream",
     "text": [
      "Epoch 1/5\n",
      "16000/16000 [==============================] - 35s - loss: 0.1560 - val_loss: 0.0605\n",
      "Epoch 2/5\n",
      "16000/16000 [==============================] - 33s - loss: 0.0770 - val_loss: 0.0430\n",
      "Epoch 3/5\n",
      "16000/16000 [==============================] - 32s - loss: 0.0608 - val_loss: 0.0258\n",
      "Epoch 4/5\n",
      "16000/16000 [==============================] - 32s - loss: 0.0522 - val_loss: 0.0248\n",
      "Epoch 5/5\n",
      "16000/16000 [==============================] - 32s - loss: 0.0468 - val_loss: 0.0228\n",
      "Training Time (s) 169.59712100028992\n"
     ]
    }
   ],
   "source": [
    "if flags['train_model']:\n",
    "    start = time.time()\n",
    "    adam = Adam(lr=0.0003)\n",
    "    model.compile(loss='mse', optimizer=adam)\n",
    "    model.fit_generator(train_generator(df_train), samples_per_epoch=16000, \n",
    "                        nb_epoch=5, validation_data=train_generator(df_val), nb_val_samples=3968)\n",
    "    model.save('model.h5')\n",
    "    end = time.time()\n",
    "    print(\"Training Time (s)\", end - start)"
   ]
  }
 ],
 "metadata": {
  "anaconda-cloud": {},
  "kernelspec": {
   "display_name": "Python 3",
   "language": "python",
   "name": "python3"
  },
  "language_info": {
   "codemirror_mode": {
    "name": "ipython",
    "version": 3
   },
   "file_extension": ".py",
   "mimetype": "text/x-python",
   "name": "python",
   "nbconvert_exporter": "python",
   "pygments_lexer": "ipython3",
   "version": "3.5.2"
  },
  "widgets": {
   "state": {},
   "version": "1.1.2"
  }
 },
 "nbformat": 4,
 "nbformat_minor": 2
}

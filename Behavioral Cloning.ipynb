{
 "cells": [
  {
   "cell_type": "markdown",
   "metadata": {},
   "source": [
    "## Imports and Configurations"
   ]
  },
  {
   "cell_type": "code",
   "execution_count": 4,
   "metadata": {
    "collapsed": false
   },
   "outputs": [
    {
     "name": "stderr",
     "output_type": "stream",
     "text": [
      "Using TensorFlow backend.\n"
     ]
    }
   ],
   "source": [
    "import os.path\n",
    "import pandas as pd\n",
    "import cv2\n",
    "import matplotlib.pyplot as plt\n",
    "import matplotlib.image as mpimg\n",
    "import numpy as np\n",
    "import pickle\n",
    "import random\n",
    "import scipy.misc\n",
    "import time\n",
    "import shutil\n",
    "from sklearn.model_selection import train_test_split\n",
    "\n",
    "from keras.models import Sequential\n",
    "from keras.layers import Input, Lambda\n",
    "from keras.layers.core import Dense, Activation, Flatten, Reshape, Dropout\n",
    "from keras.layers.convolutional import Convolution2D, ZeroPadding2D, Cropping2D\n",
    "from keras.layers.pooling import MaxPooling2D\n",
    "from keras.optimizers import Adam\n",
    "from keras.layers.advanced_activations import LeakyReLU\n",
    "\n",
    "from sklearn.utils import shuffle\n",
    "\n",
    "%matplotlib inline"
   ]
  },
  {
   "cell_type": "code",
   "execution_count": 5,
   "metadata": {
    "collapsed": false
   },
   "outputs": [],
   "source": [
    "# Configurations here\n",
    "\n",
    "flags = {\n",
    "    'train_model': True,\n",
    "    'show_plots': False,\n",
    "    'show_images': False,\n",
    "    'dropout': 0.25\n",
    "}"
   ]
  },
  {
   "cell_type": "markdown",
   "metadata": {},
   "source": [
    "\n",
    "## Load and Preprocess Data"
   ]
  },
  {
   "cell_type": "markdown",
   "metadata": {},
   "source": [
    "#### Data Augmentation and Balancing"
   ]
  },
  {
   "cell_type": "code",
   "execution_count": 6,
   "metadata": {
    "collapsed": false
   },
   "outputs": [],
   "source": [
    "def augment_brightness(image):\n",
    "    # Randomly select a percentage change\n",
    "    random_bright = 0.25 + np.random.uniform()\n",
    "    \n",
    "    # Change to HSV to change the brightness V\n",
    "    image_augmented = cv2.cvtColor(image,cv2.COLOR_RGB2HSV)\n",
    "    image_augmented[:,:,2] = image_augmented[:,:,2]*random_bright\n",
    "    \n",
    "    # Convert back to RGB\n",
    "    image_augmented = cv2.cvtColor(image_augmented,cv2.COLOR_HSV2RGB)\n",
    "    return image_augmented\n",
    "\n",
    "def mirror_image(image, angle):\n",
    "    image_mirrored = cv2.flip(image,1)\n",
    "    angle = -angle\n",
    "    return image_mirrored, angle\n",
    "\n",
    "def perturb_angle(angle):\n",
    "    new_angle = angle * (1.0 + np.random.uniform(-1, 1)/30.0)\n",
    "    return new_angle\n",
    "\n",
    "def augment_image(image, angle):\n",
    "    mirror = bool(random.randint(0,1))\n",
    "    perturb = bool(random.randint(0,1))\n",
    "    brighten = bool(random.randint(0,1))\n",
    "    \n",
    "    if mirror:\n",
    "        image, angle = mirror_image(image, angle)\n",
    "    if perturb:\n",
    "        angle = perturb_angle(angle)\n",
    "    if brighten:\n",
    "        image = augment_brightness(image)\n",
    "        \n",
    "    return image, angle"
   ]
  },
  {
   "cell_type": "markdown",
   "metadata": {},
   "source": [
    "#### Load Data"
   ]
  },
  {
   "cell_type": "code",
   "execution_count": 9,
   "metadata": {
    "collapsed": false
   },
   "outputs": [
    {
     "data": {
      "text/html": [
       "<div>\n",
       "<table border=\"1\" class=\"dataframe\">\n",
       "  <thead>\n",
       "    <tr style=\"text-align: right;\">\n",
       "      <th></th>\n",
       "      <th>center</th>\n",
       "      <th>left</th>\n",
       "      <th>right</th>\n",
       "      <th>steering</th>\n",
       "      <th>throttle</th>\n",
       "      <th>brake</th>\n",
       "      <th>speed</th>\n",
       "    </tr>\n",
       "  </thead>\n",
       "  <tbody>\n",
       "    <tr>\n",
       "      <th>8031</th>\n",
       "      <td>IMG/center_2016_12_01_13_46_38_745.jpg</td>\n",
       "      <td>IMG/left_2016_12_01_13_46_38_745.jpg</td>\n",
       "      <td>IMG/right_2016_12_01_13_46_38_745.jpg</td>\n",
       "      <td>0.0</td>\n",
       "      <td>0.0</td>\n",
       "      <td>0.0</td>\n",
       "      <td>1.402436</td>\n",
       "    </tr>\n",
       "    <tr>\n",
       "      <th>8032</th>\n",
       "      <td>IMG/center_2016_12_01_13_46_38_802.jpg</td>\n",
       "      <td>IMG/left_2016_12_01_13_46_38_802.jpg</td>\n",
       "      <td>IMG/right_2016_12_01_13_46_38_802.jpg</td>\n",
       "      <td>0.0</td>\n",
       "      <td>0.0</td>\n",
       "      <td>0.0</td>\n",
       "      <td>1.393976</td>\n",
       "    </tr>\n",
       "    <tr>\n",
       "      <th>8033</th>\n",
       "      <td>IMG/center_2016_12_01_13_46_38_846.jpg</td>\n",
       "      <td>IMG/left_2016_12_01_13_46_38_846.jpg</td>\n",
       "      <td>IMG/right_2016_12_01_13_46_38_846.jpg</td>\n",
       "      <td>0.0</td>\n",
       "      <td>0.0</td>\n",
       "      <td>0.0</td>\n",
       "      <td>1.388364</td>\n",
       "    </tr>\n",
       "    <tr>\n",
       "      <th>8034</th>\n",
       "      <td>IMG/center_2016_12_01_13_46_38_922.jpg</td>\n",
       "      <td>IMG/left_2016_12_01_13_46_38_922.jpg</td>\n",
       "      <td>IMG/right_2016_12_01_13_46_38_922.jpg</td>\n",
       "      <td>0.0</td>\n",
       "      <td>0.0</td>\n",
       "      <td>0.0</td>\n",
       "      <td>1.377208</td>\n",
       "    </tr>\n",
       "    <tr>\n",
       "      <th>8035</th>\n",
       "      <td>IMG/center_2016_12_01_13_46_38_947.jpg</td>\n",
       "      <td>IMG/left_2016_12_01_13_46_38_947.jpg</td>\n",
       "      <td>IMG/right_2016_12_01_13_46_38_947.jpg</td>\n",
       "      <td>0.0</td>\n",
       "      <td>0.0</td>\n",
       "      <td>0.0</td>\n",
       "      <td>1.374433</td>\n",
       "    </tr>\n",
       "  </tbody>\n",
       "</table>\n",
       "</div>"
      ],
      "text/plain": [
       "                                      center  \\\n",
       "8031  IMG/center_2016_12_01_13_46_38_745.jpg   \n",
       "8032  IMG/center_2016_12_01_13_46_38_802.jpg   \n",
       "8033  IMG/center_2016_12_01_13_46_38_846.jpg   \n",
       "8034  IMG/center_2016_12_01_13_46_38_922.jpg   \n",
       "8035  IMG/center_2016_12_01_13_46_38_947.jpg   \n",
       "\n",
       "                                       left  \\\n",
       "8031   IMG/left_2016_12_01_13_46_38_745.jpg   \n",
       "8032   IMG/left_2016_12_01_13_46_38_802.jpg   \n",
       "8033   IMG/left_2016_12_01_13_46_38_846.jpg   \n",
       "8034   IMG/left_2016_12_01_13_46_38_922.jpg   \n",
       "8035   IMG/left_2016_12_01_13_46_38_947.jpg   \n",
       "\n",
       "                                       right  steering  throttle  brake  \\\n",
       "8031   IMG/right_2016_12_01_13_46_38_745.jpg       0.0       0.0    0.0   \n",
       "8032   IMG/right_2016_12_01_13_46_38_802.jpg       0.0       0.0    0.0   \n",
       "8033   IMG/right_2016_12_01_13_46_38_846.jpg       0.0       0.0    0.0   \n",
       "8034   IMG/right_2016_12_01_13_46_38_922.jpg       0.0       0.0    0.0   \n",
       "8035   IMG/right_2016_12_01_13_46_38_947.jpg       0.0       0.0    0.0   \n",
       "\n",
       "         speed  \n",
       "8031  1.402436  \n",
       "8032  1.393976  \n",
       "8033  1.388364  \n",
       "8034  1.377208  \n",
       "8035  1.374433  "
      ]
     },
     "execution_count": 9,
     "metadata": {},
     "output_type": "execute_result"
    }
   ],
   "source": [
    "df_udacity = pd.read_csv('data/udacity_data/driving_log.csv')\n",
    "df.tail()"
   ]
  },
  {
   "cell_type": "markdown",
   "metadata": {},
   "source": [
    "#### Plots"
   ]
  },
  {
   "cell_type": "code",
   "execution_count": 12,
   "metadata": {
    "collapsed": false
   },
   "outputs": [],
   "source": [
    "if flags['show_plots']:\n",
    "    plt.figure(figsize=(16,5))\n",
    "    plt.plot(df['steering'].values[0:1000])"
   ]
  },
  {
   "cell_type": "code",
   "execution_count": 13,
   "metadata": {
    "collapsed": false
   },
   "outputs": [],
   "source": [
    "if flags['show_images']:\n",
    "    for i in range(3):\n",
    "        index = np.random.choice(df_udacity.index)\n",
    "        filename = 'data/udacity_data/' + df_udacity['center'][index]\n",
    "        image = mpimg.imread(filename)\n",
    "        plt.figure()\n",
    "        plt.imshow(image)"
   ]
  },
  {
   "cell_type": "markdown",
   "metadata": {},
   "source": [
    "## Setup and Train Network"
   ]
  },
  {
   "cell_type": "markdown",
   "metadata": {},
   "source": [
    "#### Data Generator"
   ]
  },
  {
   "cell_type": "code",
   "execution_count": 89,
   "metadata": {
    "collapsed": false
   },
   "outputs": [],
   "source": [
    "steering_values = []\n",
    "\n",
    "def train_generator(df):\n",
    "    binned =  np.digitize(df['steering'].values, np.arange(-1, 1, 0.1))\n",
    "    binned_indexes = []\n",
    "    for i in range(21):\n",
    "        binned_indexes.append([j for j,v in enumerate(binned) if v == i])\n",
    "    valid_bins = [i for i,v in enumerate(binned_indexes) if len(v) > 0]\n",
    "    valid_bins += [11]\n",
    "    \n",
    "    while True:\n",
    "        images = []\n",
    "        angles = []\n",
    "        for i in range(128):\n",
    "            bin = np.random.choice(valid_bins)\n",
    "            index = np.random.choice(binned_indexes[bin])\n",
    "            row = df.loc[index]\n",
    "            camera = bool(random.randint(0,3))\n",
    "            if camera == 0:\n",
    "                filename = row['left'].strip()\n",
    "                angle = row['steering'] + 0.25\n",
    "            elif camera in (1,2):\n",
    "                filename = row['center'].strip()\n",
    "                angle = row['steering']\n",
    "            elif camera == 3:\n",
    "                filename = row['right'].strip()\n",
    "                angle = row['steering'] - 0.25\n",
    "            \n",
    "            if '2017_02_16' in filename:\n",
    "                filename = 'data/my_driving_data/' + filename\n",
    "            else:\n",
    "                filename = 'data/udacity_data/' + filename\n",
    "            image = mpimg.imread(filename)\n",
    "\n",
    "            augment = random.random() > 0.5\n",
    "            if augment:\n",
    "                image, angle = augment_image(image, angle)\n",
    "            if abs(angle) > 1.0:\n",
    "                angle = angle / abs(angle)\n",
    "                \n",
    "            image = cv2.resize(image, (200, 66))\n",
    "            image = image[np.newaxis, ...]\n",
    "            images.append(image)\n",
    "            angles.append(angle)\n",
    "            \n",
    "        global steering_values\n",
    "        steering_values += angles\n",
    "        batch_x = np.concatenate(images, axis=0)\n",
    "        batch_y = np.array(angles)\n",
    "        yield batch_x, batch_y"
   ]
  },
  {
   "cell_type": "markdown",
   "metadata": {},
   "source": [
    "#### Model and Training"
   ]
  },
  {
   "cell_type": "code",
   "execution_count": 90,
   "metadata": {
    "collapsed": false
   },
   "outputs": [],
   "source": [
    "model = Sequential()\n",
    "\n",
    "model.add(Lambda(lambda x: x / 255 - 0.5, input_shape=(66, 200, 3)))\n",
    "\n",
    "model.add(Convolution2D(24, 5, 5, subsample=(2,2), init='he_normal'))\n",
    "model.add(Activation('relu'))\n",
    "\n",
    "model.add(Convolution2D(36, 5, 5, subsample=(2,2), init='he_normal'))\n",
    "model.add(Activation('relu'))\n",
    "\n",
    "model.add(Convolution2D(48, 5, 5, subsample=(2,2), init='he_normal'))\n",
    "model.add(Activation('relu'))\n",
    "\n",
    "model.add(Convolution2D(64, 3, 3, init='he_normal'))\n",
    "model.add(Activation('relu'))\n",
    "\n",
    "model.add(Convolution2D(64, 3, 3, init='he_normal'))\n",
    "model.add(Activation('relu'))\n",
    "model.add(Dropout(flags['dropout']))\n",
    "\n",
    "model.add(Flatten())\n",
    "model.add(Dense(1164, init='he_normal'))\n",
    "model.add(Activation('relu'))\n",
    "model.add(Dropout(flags['dropout']))\n",
    "\n",
    "model.add(Dense(100, init='he_normal'))\n",
    "model.add(Activation('relu'))\n",
    "model.add(Dropout(flags['dropout']))\n",
    "\n",
    "model.add(Dense(50, init='he_normal'))\n",
    "model.add(Activation('relu'))\n",
    "model.add(Dropout(flags['dropout']))\n",
    "\n",
    "model.add(Dense(10, init='he_normal'))\n",
    "model.add(Activation('relu'))\n",
    "model.add(Dropout(flags['dropout']))\n",
    "\n",
    "model.add(Dense(1, init='he_normal'))"
   ]
  },
  {
   "cell_type": "code",
   "execution_count": 93,
   "metadata": {
    "collapsed": false
   },
   "outputs": [
    {
     "name": "stdout",
     "output_type": "stream",
     "text": [
      "Epoch 1/10\n",
      "32000/32000 [==============================] - 95s - loss: 0.0290 - val_loss: 0.0085\n",
      "Epoch 2/10\n",
      "32000/32000 [==============================] - 91s - loss: 0.0287 - val_loss: 0.0115\n",
      "Epoch 3/10\n",
      "32000/32000 [==============================] - 92s - loss: 0.0287 - val_loss: 0.0123\n",
      "Epoch 4/10\n",
      "32000/32000 [==============================] - 91s - loss: 0.0281 - val_loss: 0.0113\n",
      "Epoch 5/10\n",
      "32000/32000 [==============================] - 91s - loss: 0.0280 - val_loss: 0.0114\n",
      "Epoch 6/10\n",
      "32000/32000 [==============================] - 92s - loss: 0.0276 - val_loss: 0.0071\n",
      "Epoch 7/10\n",
      "32000/32000 [==============================] - 92s - loss: 0.0278 - val_loss: 0.0071\n",
      "Epoch 8/10\n",
      "32000/32000 [==============================] - 91s - loss: 0.0268 - val_loss: 0.0072\n",
      "Epoch 9/10\n",
      "32000/32000 [==============================] - 92s - loss: 0.0323 - val_loss: 0.0093\n",
      "Epoch 10/10\n",
      "32000/32000 [==============================] - 91s - loss: 0.0271 - val_loss: 0.0105\n",
      "Training Time (s) 925.567773103714\n"
     ]
    }
   ],
   "source": [
    "if flags['train_model']:\n",
    "    start = time.time()\n",
    "    steering_values = []\n",
    "    adam = Adam()\n",
    "    model.compile(loss='mse', optimizer=adam)\n",
    "    model.fit_generator(train_generator(df_udacity), samples_per_epoch=32000, \n",
    "                        nb_epoch=10, validation_data=train_generator(df_udacity), nb_val_samples=7936)\n",
    "    model.save('model.h5')\n",
    "    end = time.time()\n",
    "    print(\"Training Time (s)\", end - start)"
   ]
  },
  {
   "cell_type": "code",
   "execution_count": 92,
   "metadata": {
    "collapsed": false
   },
   "outputs": [
    {
     "data": {
      "image/png": "[encoded data removed]",
      "text/plain": [
       "<matplotlib.figure.Figure at 0x7f1fd277da20>"
      ]
     },
     "metadata": {},
     "output_type": "display_data"
    },
    {
     "data": {
      "image/png": "[encoded data removed]",
      "text/plain": [
       "<matplotlib.figure.Figure at 0x7f1fd2707400>"
      ]
     },
     "metadata": {},
     "output_type": "display_data"
    }
   ],
   "source": [
    "plt.hist(steering_values, bins=100)\n",
    "plt.figure()\n",
    "plt.hist(steering_values, bins=20)\n",
    "pass"
   ]
  }
 ],
 "metadata": {
  "anaconda-cloud": {},
  "kernelspec": {
   "display_name": "Python 3",
   "language": "python",
   "name": "python3"
  },
  "language_info": {
   "codemirror_mode": {
    "name": "ipython",
    "version": 3
   },
   "file_extension": ".py",
   "mimetype": "text/x-python",
   "name": "python",
   "nbconvert_exporter": "python",
   "pygments_lexer": "ipython3",
   "version": "3.5.2"
  },
  "widgets": {
   "state": {},
   "version": "1.1.2"
  }
 },
 "nbformat": 4,
 "nbformat_minor": 2
}

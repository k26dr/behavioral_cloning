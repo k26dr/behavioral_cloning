{
 "cells": [
  {
   "cell_type": "markdown",
   "metadata": {},
   "source": [
    "## Imports and Configurations"
   ]
  },
  {
   "cell_type": "code",
   "execution_count": 1,
   "metadata": {
    "collapsed": false
   },
   "outputs": [
    {
     "name": "stderr",
     "output_type": "stream",
     "text": [
      "Using TensorFlow backend.\n"
     ]
    }
   ],
   "source": [
    "import os.path\n",
    "import pandas as pd\n",
    "import cv2\n",
    "import matplotlib.pyplot as plt\n",
    "import matplotlib.image as mpimg\n",
    "import numpy as np\n",
    "import pickle\n",
    "import random\n",
    "import scipy.misc\n",
    "import time\n",
    "import shutil\n",
    "from sklearn.model_selection import train_test_split\n",
    "\n",
    "from keras.models import Sequential\n",
    "from keras.layers import Input, Lambda\n",
    "from keras.layers.core import Dense, Activation, Flatten, Reshape, Dropout\n",
    "from keras.layers.convolutional import Convolution2D, ZeroPadding2D, Cropping2D\n",
    "from keras.layers.pooling import MaxPooling2D\n",
    "from keras.optimizers import Adam\n",
    "from keras.layers.advanced_activations import LeakyReLU\n",
    "\n",
    "from sklearn.utils import shuffle\n",
    "\n",
    "%matplotlib inline"
   ]
  },
  {
   "cell_type": "code",
   "execution_count": 70,
   "metadata": {
    "collapsed": false
   },
   "outputs": [],
   "source": [
    "# Configurations here\n",
    "\n",
    "flags = {\n",
    "    'mirror_data': False,\n",
    "    'augment_data': True,\n",
    "    'train_model': True,\n",
    "    'show_plots': True,\n",
    "    'show_images': False,\n",
    "    'downsample_straight': False,\n",
    "    'model': 'nvidia'\n",
    "}"
   ]
  },
  {
   "cell_type": "markdown",
   "metadata": {},
   "source": [
    "## Load and Preprocess Data"
   ]
  },
  {
   "cell_type": "markdown",
   "metadata": {},
   "source": [
    "#### Data Augmentation and Balancing"
   ]
  },
  {
   "cell_type": "code",
   "execution_count": 60,
   "metadata": {
    "collapsed": true
   },
   "outputs": [],
   "source": [
    "def augment_brightness(image):\n",
    "    # Randomly select a percentage change\n",
    "    random_bright = 0.25 + np.random.uniform()\n",
    "    \n",
    "    # Change to HSV to change the brightness V\n",
    "    image_augmented = cv2.cvtColor(image,cv2.COLOR_RGB2HSV)\n",
    "    image_augmented[:,:,2] = image_augmented[:,:,2]*random_bright\n",
    "    \n",
    "    # Convert back to RGB\n",
    "    image_augmented = cv2.cvtColor(image_augmented,cv2.COLOR_HSV2RGB)\n",
    "    return image_augmented\n",
    "\n",
    "def mirror_image(image, angle):\n",
    "    image_mirrored = cv2.flip(image,1)\n",
    "    angle = -angle\n",
    "    return image_mirrored, angle\n",
    "\n",
    "def perturb_angle(angle):\n",
    "    new_angle = angle * (1.0 + np.random.uniform(-1, 1)/30.0)\n",
    "    return new_angle"
   ]
  },
  {
   "cell_type": "code",
   "execution_count": 61,
   "metadata": {
    "collapsed": false
   },
   "outputs": [],
   "source": [
    "if flags['mirror_data']:\n",
    "    start = time.time()\n",
    "    \n",
    "    df = pd.read_csv('data/udacity_data/driving_log.csv')\n",
    "    df_mirror = pd.DataFrame(columns=df.columns, index=df.index)\n",
    "    for index, row in df.iterrows():\n",
    "        image = mpimg.imread('data/udacity_data/' + row['center'])\n",
    "        angle = row['steering']\n",
    "        image, angle = mirror_image(image, angle)\n",
    "        df_mirror.loc[index] = df.iloc[index].values\n",
    "        df_mirror.set_value(index, 'steering', angle)\n",
    "        filename = 'IMG/mirrored_{0}.jpg'.format(index)\n",
    "        filepath = 'data/mirrored_data/' + filename\n",
    "        df_mirror.set_value(index, 'center', filename)\n",
    "        scipy.misc.imsave(filepath, image)\n",
    "    \n",
    "    df_mirror.to_csv('data/mirrored_data/driving_log.csv', index=False)\n",
    "    end = time.time()\n",
    "    print(\"Execution Time (s): \", end - start)"
   ]
  },
  {
   "cell_type": "code",
   "execution_count": 62,
   "metadata": {
    "collapsed": false
   },
   "outputs": [
    {
     "name": "stdout",
     "output_type": "stream",
     "text": [
      "Creating Augmented Data...\n",
      "0 images complete\n",
      "1000 images complete\n",
      "2000 images complete\n",
      "3000 images complete\n",
      "4000 images complete\n",
      "5000 images complete\n",
      "6000 images complete\n",
      "7000 images complete\n",
      "8000 images complete\n",
      "Execution Time (secs): 56.80866503715515\n"
     ]
    }
   ],
   "source": [
    "if flags['augment_data']:\n",
    "    print(\"Creating Augmented Data...\")\n",
    "    start = time.time()\n",
    "\n",
    "    # Load training data\n",
    "    offset = 0\n",
    "    df_udacity = pd.read_csv('data/udacity_data/driving_log.csv')\n",
    "#     df_mirror = pd.read_csv('data/mirrored_data/driving_log.csv')\n",
    "#     df = pd.concat((df_udacity, df_mirror))\n",
    "    df = df_udacity\n",
    "    df.reset_index(drop=True, inplace=True)\n",
    "    df_aug = pd.DataFrame(columns=df.columns, index=df.index)\n",
    "\n",
    "    # Create and save augmented images\n",
    "    y_train = df['steering'].values\n",
    "    turn_indexes = ([i for i,v in enumerate(y_train) if v != 0])\n",
    "\n",
    "    for j in range(9000): # This number determines how many images we generate\n",
    "        index = np.random.choice(turn_indexes)\n",
    "        mirror = bool(random.randint(0,1))\n",
    "        perturb = bool(random.randint(0,1))\n",
    "        brighten = bool(random.randint(0,1))\n",
    "        \n",
    "        path = df.iloc[index]['center']\n",
    "        if 'mirrored' in path:\n",
    "            path = 'data/mirrored_data/' + path\n",
    "        else:\n",
    "            path = 'data/udacity_data/' + path\n",
    "        image = mpimg.imread(path)\n",
    "        angle = df.iloc[index]['steering']\n",
    "        \n",
    "        if mirror:\n",
    "            image, angle = mirror_image(image, angle)\n",
    "        if perturb:\n",
    "            angle = perturb_angle(angle)\n",
    "        if brighten:\n",
    "            image = augment_brightness(image)\n",
    "        \n",
    "        df_aug.loc[j] = df.iloc[index].values\n",
    "        df_aug.set_value(j, 'steering', angle)\n",
    "        filename = 'IMG/augmented_{0}.jpg'.format(j)\n",
    "        filepath = 'data/augmented_data/' + filename\n",
    "        df_aug.set_value(j, 'center', filename)\n",
    "        scipy.misc.imsave(filepath, image)\n",
    "        if j % 1000 == 0:\n",
    "            print('{} images complete'.format(j))\n",
    "    \n",
    "    df_aug.dropna().to_csv('data/augmented_data/driving_log.csv', index=False)\n",
    "    end = time.time()\n",
    "    print(\"Execution Time (secs):\", end - start)"
   ]
  },
  {
   "cell_type": "markdown",
   "metadata": {},
   "source": [
    "#### Load Data"
   ]
  },
  {
   "cell_type": "code",
   "execution_count": 63,
   "metadata": {
    "collapsed": false
   },
   "outputs": [
    {
     "data": {
      "text/html": [
       "<div>\n",
       "<table border=\"1\" class=\"dataframe\">\n",
       "  <thead>\n",
       "    <tr style=\"text-align: right;\">\n",
       "      <th></th>\n",
       "      <th>center</th>\n",
       "      <th>left</th>\n",
       "      <th>right</th>\n",
       "      <th>steering</th>\n",
       "      <th>throttle</th>\n",
       "      <th>brake</th>\n",
       "      <th>speed</th>\n",
       "    </tr>\n",
       "  </thead>\n",
       "  <tbody>\n",
       "    <tr>\n",
       "      <th>19739</th>\n",
       "      <td>IMG/center_2017_02_02_16_55_28_644.jpg</td>\n",
       "      <td>IMG/left_2017_02_02_16_55_28_644.jpg</td>\n",
       "      <td>IMG/right_2017_02_02_16_55_28_644.jpg</td>\n",
       "      <td>0.0</td>\n",
       "      <td>0.0</td>\n",
       "      <td>0.0</td>\n",
       "      <td>4.196266</td>\n",
       "    </tr>\n",
       "    <tr>\n",
       "      <th>19740</th>\n",
       "      <td>IMG/center_2017_02_02_16_55_28_747.jpg</td>\n",
       "      <td>IMG/left_2017_02_02_16_55_28_747.jpg</td>\n",
       "      <td>IMG/right_2017_02_02_16_55_28_747.jpg</td>\n",
       "      <td>0.0</td>\n",
       "      <td>0.0</td>\n",
       "      <td>0.0</td>\n",
       "      <td>4.152821</td>\n",
       "    </tr>\n",
       "    <tr>\n",
       "      <th>19741</th>\n",
       "      <td>IMG/center_2017_02_02_16_55_28_850.jpg</td>\n",
       "      <td>IMG/left_2017_02_02_16_55_28_850.jpg</td>\n",
       "      <td>IMG/right_2017_02_02_16_55_28_850.jpg</td>\n",
       "      <td>0.0</td>\n",
       "      <td>0.0</td>\n",
       "      <td>0.0</td>\n",
       "      <td>4.109815</td>\n",
       "    </tr>\n",
       "    <tr>\n",
       "      <th>19742</th>\n",
       "      <td>IMG/center_2017_02_02_16_55_28_954.jpg</td>\n",
       "      <td>IMG/left_2017_02_02_16_55_28_954.jpg</td>\n",
       "      <td>IMG/right_2017_02_02_16_55_28_954.jpg</td>\n",
       "      <td>0.0</td>\n",
       "      <td>0.0</td>\n",
       "      <td>0.0</td>\n",
       "      <td>4.067245</td>\n",
       "    </tr>\n",
       "    <tr>\n",
       "      <th>19743</th>\n",
       "      <td>IMG/center_2017_02_02_16_55_29_062.jpg</td>\n",
       "      <td>IMG/left_2017_02_02_16_55_29_062.jpg</td>\n",
       "      <td>IMG/right_2017_02_02_16_55_29_062.jpg</td>\n",
       "      <td>0.0</td>\n",
       "      <td>0.0</td>\n",
       "      <td>0.0</td>\n",
       "      <td>4.016730</td>\n",
       "    </tr>\n",
       "  </tbody>\n",
       "</table>\n",
       "</div>"
      ],
      "text/plain": [
       "                                       center  \\\n",
       "19739  IMG/center_2017_02_02_16_55_28_644.jpg   \n",
       "19740  IMG/center_2017_02_02_16_55_28_747.jpg   \n",
       "19741  IMG/center_2017_02_02_16_55_28_850.jpg   \n",
       "19742  IMG/center_2017_02_02_16_55_28_954.jpg   \n",
       "19743  IMG/center_2017_02_02_16_55_29_062.jpg   \n",
       "\n",
       "                                        left  \\\n",
       "19739   IMG/left_2017_02_02_16_55_28_644.jpg   \n",
       "19740   IMG/left_2017_02_02_16_55_28_747.jpg   \n",
       "19741   IMG/left_2017_02_02_16_55_28_850.jpg   \n",
       "19742   IMG/left_2017_02_02_16_55_28_954.jpg   \n",
       "19743   IMG/left_2017_02_02_16_55_29_062.jpg   \n",
       "\n",
       "                                        right  steering  throttle  brake  \\\n",
       "19739   IMG/right_2017_02_02_16_55_28_644.jpg       0.0       0.0    0.0   \n",
       "19740   IMG/right_2017_02_02_16_55_28_747.jpg       0.0       0.0    0.0   \n",
       "19741   IMG/right_2017_02_02_16_55_28_850.jpg       0.0       0.0    0.0   \n",
       "19742   IMG/right_2017_02_02_16_55_28_954.jpg       0.0       0.0    0.0   \n",
       "19743   IMG/right_2017_02_02_16_55_29_062.jpg       0.0       0.0    0.0   \n",
       "\n",
       "          speed  \n",
       "19739  4.196266  \n",
       "19740  4.152821  \n",
       "19741  4.109815  \n",
       "19742  4.067245  \n",
       "19743  4.016730  "
      ]
     },
     "execution_count": 63,
     "metadata": {},
     "output_type": "execute_result"
    }
   ],
   "source": [
    "df_udacity = pd.read_csv('data/udacity_data/driving_log.csv')\n",
    "df_mirror = pd.read_csv('data/mirrored_data/driving_log.csv')\n",
    "df_aug = pd.read_csv('data/augmented_data/driving_log.csv')\n",
    "df_mine = pd.read_csv('data/my_driving_data/driving_log.csv')\n",
    "df = pd.concat((df_udacity, df_aug, df_mine))\n",
    "df.reset_index(drop=True, inplace=True)\n",
    "df.tail()"
   ]
  },
  {
   "cell_type": "code",
   "execution_count": 65,
   "metadata": {
    "collapsed": false
   },
   "outputs": [],
   "source": [
    "if flags['downsample_straight']:\n",
    "    keep_num = 6000\n",
    "    straight_indexes = df[df.steering == 0].index\n",
    "    drop_indexes = np.random.choice(straight_indexes, len(straight_indexes) - keep_num , replace=False)\n",
    "    df.drop(drop_indexes, inplace=True)\n",
    "    df.reset_index(drop=True, inplace=True)\n",
    "    print(df.tail())"
   ]
  },
  {
   "cell_type": "code",
   "execution_count": 66,
   "metadata": {
    "collapsed": false
   },
   "outputs": [],
   "source": [
    "# Split and shuffle data\n",
    "num_examples = df['center'].count()\n",
    "indexes = np.arange(0, num_examples)\n",
    "# np.random.shuffle(indexes)\n",
    "train_indexes, val_indexes = train_test_split(indexes, test_size=0.2)\n",
    "df_train = df.loc[train_indexes]\n",
    "df_val = df.loc[val_indexes]"
   ]
  },
  {
   "cell_type": "markdown",
   "metadata": {},
   "source": [
    "#### Plots"
   ]
  },
  {
   "cell_type": "code",
   "execution_count": 67,
   "metadata": {
    "collapsed": false
   },
   "outputs": [
    {
     "data": {
      "image/png": "[encoded data removed]",
      "text/plain": [
       "<matplotlib.figure.Figure at 0x7fe8934eee80>"
      ]
     },
     "metadata": {},
     "output_type": "display_data"
    }
   ],
   "source": [
    "if flags['show_plots']:    \n",
    "    plt.hist(df['steering'], bins=50)"
   ]
  },
  {
   "cell_type": "code",
   "execution_count": 68,
   "metadata": {
    "collapsed": false
   },
   "outputs": [
    {
     "data": {
      "image/png": "[encoded data removed]",
      "text/plain": [
       "<matplotlib.figure.Figure at 0x7fe89308b0b8>"
      ]
     },
     "metadata": {},
     "output_type": "display_data"
    }
   ],
   "source": [
    "if flags['show_plots']:\n",
    "    plt.figure(figsize=(16,5))\n",
    "    plt.plot(df['steering'].values[0:1000])"
   ]
  },
  {
   "cell_type": "code",
   "execution_count": 71,
   "metadata": {
    "collapsed": false
   },
   "outputs": [],
   "source": [
    "if flags['show_images']:\n",
    "    for i in range(3):\n",
    "        index = np.random.choice(df_udacity.index)\n",
    "        filename = 'data/udacity_data/' + df_udacity['center'][index]\n",
    "        image = mpimg.imread(filename)\n",
    "        plt.figure()\n",
    "        plt.imshow(image)"
   ]
  },
  {
   "cell_type": "markdown",
   "metadata": {},
   "source": [
    "## Setup and Train Network"
   ]
  },
  {
   "cell_type": "markdown",
   "metadata": {},
   "source": [
    "#### Data Generator"
   ]
  },
  {
   "cell_type": "code",
   "execution_count": 72,
   "metadata": {
    "collapsed": false
   },
   "outputs": [],
   "source": [
    "def train_generator(df):\n",
    "    while True:\n",
    "        batch_indexes = np.random.choice(df.index, 128, replace=False)\n",
    "        batch = df.loc[batch_indexes]\n",
    "        images = []\n",
    "        for index, row in batch.iterrows():\n",
    "            filename = row['center']\n",
    "            if 'augmented' in filename:\n",
    "                path = 'data/augmented_data/' + filename\n",
    "            elif 'mirrored' in filename:\n",
    "                path = 'data/mirrored_data/' + filename\n",
    "            elif '2017_02_02' in filename:\n",
    "                path = 'data/my_driving_data/' + filename\n",
    "            else:\n",
    "                path = 'data/udacity_data/' + filename\n",
    "            image = mpimg.imread(path)\n",
    "            image = cv2.resize(image, (200, 66))\n",
    "            image = image[np.newaxis, ...]\n",
    "            images.append(image)\n",
    "        batch_x = np.concatenate(images, axis=0)\n",
    "        batch_y = batch['steering'].values\n",
    "        yield batch_x, batch_y"
   ]
  },
  {
   "cell_type": "markdown",
   "metadata": {},
   "source": [
    "#### Model and Training"
   ]
  },
  {
   "cell_type": "code",
   "execution_count": 73,
   "metadata": {
    "collapsed": false
   },
   "outputs": [],
   "source": [
    "if flags['model'] == 'alexnet':\n",
    "    model = Sequential()\n",
    "    \n",
    "    # Normalize\n",
    "    model.add(Lambda(lambda x: x / 255 - 0.5, input_shape=(227, 227, 3)))\n",
    "    \n",
    "    # Output = 55 x 55\n",
    "    model.add(Convolution2D(48, 11, 11, subsample=(4,4)))\n",
    "    model.add(Activation('relu'))\n",
    "    \n",
    "    # Output = 27 x 27\n",
    "    model.add(MaxPooling2D((3,3), strides=(2,2)))\n",
    "    model.add(Convolution2D(128, 5, 5, border_mode='same'))\n",
    "    model.add(Activation('relu'))\n",
    "    \n",
    "    # Output = 13 x 13\n",
    "    model.add(MaxPooling2D((3,3), strides=(2,2)))\n",
    "    model.add(Convolution2D(192, 3, 3, border_mode='same'))\n",
    "    model.add(Activation('relu'))\n",
    "\n",
    "    # Output = 13 x 13\n",
    "    model.add(Convolution2D(192, 3, 3, border_mode='same'))\n",
    "    model.add(Activation('relu'))\n",
    "    \n",
    "    # Output = 13 x 13\n",
    "    model.add(Convolution2D(128, 3, 3, border_mode='same'))\n",
    "    model.add(Activation('relu'))\n",
    "    \n",
    "    # Output = 4 x 4 x 128\n",
    "    model.add(MaxPooling2D((3,3)))\n",
    "    \n",
    "    model.add(Flatten())\n",
    "    model.add(Dense(512))\n",
    "    model.add(Dense(128))\n",
    "    model.add(Dense(32))\n",
    "    model.add(Dense(1))"
   ]
  },
  {
   "cell_type": "code",
   "execution_count": 74,
   "metadata": {
    "collapsed": false
   },
   "outputs": [],
   "source": [
    "if flags['model'] == 'nvidia':\n",
    "    model = Sequential()\n",
    "\n",
    "    model.add(Lambda(lambda x: x / 255 - 0.5, input_shape=(66, 200, 3)))\n",
    "    \n",
    "    model.add(Convolution2D(24, 5, 5, subsample=(2,2)))\n",
    "    model.add(Activation('relu'))\n",
    "\n",
    "    model.add(Convolution2D(36, 5, 5, subsample=(2,2)))\n",
    "    model.add(Activation('relu'))\n",
    "\n",
    "    model.add(Convolution2D(48, 5, 5, subsample=(2,2)))\n",
    "    model.add(Activation('relu'))\n",
    "\n",
    "    model.add(Convolution2D(64, 3, 3))\n",
    "    model.add(Activation('relu'))\n",
    "\n",
    "    model.add(Convolution2D(64, 3, 3))\n",
    "    model.add(Activation('relu'))\n",
    "    model.add(Dropout(0.25))\n",
    "\n",
    "    model.add(Flatten())\n",
    "    model.add(Dense(1164))\n",
    "    model.add(Activation('relu'))\n",
    "    model.add(Dropout(0.25))\n",
    "\n",
    "    model.add(Dense(100))\n",
    "    model.add(Activation('relu'))\n",
    "    model.add(Dropout(0.25))\n",
    "\n",
    "    model.add(Dense(50))\n",
    "    model.add(Activation('relu'))\n",
    "    model.add(Dropout(0.25))\n",
    "\n",
    "    model.add(Dense(10))\n",
    "    model.add(Activation('relu'))\n",
    "    model.add(Dropout(0.25))\n",
    "\n",
    "    model.add(Dense(1))"
   ]
  },
  {
   "cell_type": "code",
   "execution_count": 76,
   "metadata": {
    "collapsed": false
   },
   "outputs": [
    {
     "name": "stdout",
     "output_type": "stream",
     "text": [
      "Epoch 1/5\n",
      "16000/16000 [==============================] - 36s - loss: 0.0149 - val_loss: 0.0132\n",
      "Epoch 2/5\n",
      "16000/16000 [==============================] - 33s - loss: 0.0140 - val_loss: 0.0127\n",
      "Epoch 3/5\n",
      "16000/16000 [==============================] - 33s - loss: 0.0138 - val_loss: 0.0133\n",
      "Epoch 4/5\n",
      "16000/16000 [==============================] - 33s - loss: 0.0150 - val_loss: 0.0116\n",
      "Epoch 5/5\n",
      "16000/16000 [==============================] - 33s - loss: 0.0128 - val_loss: 0.0129\n",
      "Training Time (s) 172.7745659351349\n"
     ]
    }
   ],
   "source": [
    "if flags['train_model']:\n",
    "    start = time.time()\n",
    "    adam = Adam(lr=0.0003)\n",
    "    model.compile(loss='mse', optimizer=adam)\n",
    "    model.fit_generator(train_generator(df_train), samples_per_epoch=16000, \n",
    "                        nb_epoch=5, validation_data=train_generator(df_val), nb_val_samples=3968)\n",
    "    model.save('model.h5')\n",
    "    end = time.time()\n",
    "    print(\"Training Time (s)\", end - start)"
   ]
  }
 ],
 "metadata": {
  "anaconda-cloud": {},
  "kernelspec": {
   "display_name": "Python 3",
   "language": "python",
   "name": "python3"
  },
  "language_info": {
   "codemirror_mode": {
    "name": "ipython",
    "version": 3
   },
   "file_extension": ".py",
   "mimetype": "text/x-python",
   "name": "python",
   "nbconvert_exporter": "python",
   "pygments_lexer": "ipython3",
   "version": "3.5.2"
  },
  "widgets": {
   "state": {},
   "version": "1.1.2"
  }
 },
 "nbformat": 4,
 "nbformat_minor": 2
}

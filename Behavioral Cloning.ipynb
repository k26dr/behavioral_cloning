{
 "cells": [
  {
   "cell_type": "markdown",
   "metadata": {},
   "source": [
    "## Imports and Configurations"
   ]
  },
  {
   "cell_type": "code",
   "execution_count": 62,
   "metadata": {
    "collapsed": false
   },
   "outputs": [],
   "source": [
    "import os.path\n",
    "import pandas as pd\n",
    "import cv2\n",
    "import matplotlib.pyplot as plt\n",
    "import matplotlib.image as mpimg\n",
    "import numpy as np\n",
    "import pickle\n",
    "import random\n",
    "import scipy.misc\n",
    "import time\n",
    "import shutil\n",
    "from sklearn.model_selection import train_test_split\n",
    "\n",
    "from keras.models import Sequential\n",
    "from keras.layers import Input, Lambda\n",
    "from keras.layers.core import Dense, Activation, Flatten, Reshape, Dropout\n",
    "from keras.layers.convolutional import Convolution2D, ZeroPadding2D, Cropping2D\n",
    "from keras.layers.pooling import MaxPooling2D\n",
    "from keras.optimizers import Adam\n",
    "from keras.layers.advanced_activations import LeakyReLU\n",
    "\n",
    "from sklearn.utils import shuffle\n",
    "\n",
    "%matplotlib inline"
   ]
  },
  {
   "cell_type": "code",
   "execution_count": 63,
   "metadata": {
    "collapsed": false
   },
   "outputs": [],
   "source": [
    "# Configurations here\n",
    "\n",
    "flags = {\n",
    "    'train_model': True,\n",
    "    'show_plots': False,\n",
    "    'show_images': False,\n",
    "    'dropout': 0.25\n",
    "}"
   ]
  },
  {
   "cell_type": "markdown",
   "metadata": {},
   "source": [
    "\n",
    "## Load and Preprocess Data"
   ]
  },
  {
   "cell_type": "markdown",
   "metadata": {},
   "source": [
    "#### Data Augmentation and Balancing"
   ]
  },
  {
   "cell_type": "code",
   "execution_count": 64,
   "metadata": {
    "collapsed": false
   },
   "outputs": [],
   "source": [
    "def augment_brightness(image):\n",
    "    # Randomly select a percentage change\n",
    "    random_bright = 0.25 + np.random.uniform()\n",
    "    \n",
    "    # Change to HSV to change the brightness V\n",
    "    image_augmented = cv2.cvtColor(image,cv2.COLOR_RGB2HSV)\n",
    "    image_augmented[:,:,2] = image_augmented[:,:,2]*random_bright\n",
    "    \n",
    "    # Convert back to RGB\n",
    "    image_augmented = cv2.cvtColor(image_augmented,cv2.COLOR_HSV2RGB)\n",
    "    return image_augmented\n",
    "\n",
    "def mirror_image(image, angle):\n",
    "    image_mirrored = cv2.flip(image,1)\n",
    "    angle = -angle\n",
    "    return image_mirrored, angle\n",
    "\n",
    "def perturb_angle(angle):\n",
    "    new_angle = angle * (1.0 + np.random.uniform(-1, 1)/30.0)\n",
    "    return new_angle\n",
    "\n",
    "def augment_image(image, angle):\n",
    "    mirror = bool(random.randint(0,1))\n",
    "    perturb = bool(random.randint(0,1))\n",
    "    brighten = bool(random.randint(0,1))\n",
    "    \n",
    "    if mirror:\n",
    "        image, angle = mirror_image(image, angle)\n",
    "    if perturb:\n",
    "        angle = perturb_angle(angle)\n",
    "    if brighten:\n",
    "        image = augment_brightness(image)\n",
    "        \n",
    "    return image, angle"
   ]
  },
  {
   "cell_type": "markdown",
   "metadata": {},
   "source": [
    "#### Load Data"
   ]
  },
  {
   "cell_type": "code",
   "execution_count": 65,
   "metadata": {
    "collapsed": false
   },
   "outputs": [
    {
     "data": {
      "text/html": [
       "<div>\n",
       "<table border=\"1\" class=\"dataframe\">\n",
       "  <thead>\n",
       "    <tr style=\"text-align: right;\">\n",
       "      <th></th>\n",
       "      <th>center</th>\n",
       "      <th>left</th>\n",
       "      <th>right</th>\n",
       "      <th>steering</th>\n",
       "      <th>throttle</th>\n",
       "      <th>brake</th>\n",
       "      <th>speed</th>\n",
       "    </tr>\n",
       "  </thead>\n",
       "  <tbody>\n",
       "    <tr>\n",
       "      <th>10692</th>\n",
       "      <td>IMG/center_2017_02_16_18_01_31_155.jpg</td>\n",
       "      <td>IMG/left_2017_02_16_18_01_31_155.jpg</td>\n",
       "      <td>IMG/right_2017_02_16_18_01_31_155.jpg</td>\n",
       "      <td>0.0</td>\n",
       "      <td>0.0</td>\n",
       "      <td>0.0</td>\n",
       "      <td>28.71855</td>\n",
       "    </tr>\n",
       "    <tr>\n",
       "      <th>10693</th>\n",
       "      <td>IMG/center_2017_02_16_18_01_31_257.jpg</td>\n",
       "      <td>IMG/left_2017_02_16_18_01_31_257.jpg</td>\n",
       "      <td>IMG/right_2017_02_16_18_01_31_257.jpg</td>\n",
       "      <td>0.0</td>\n",
       "      <td>0.0</td>\n",
       "      <td>0.0</td>\n",
       "      <td>28.43017</td>\n",
       "    </tr>\n",
       "    <tr>\n",
       "      <th>10694</th>\n",
       "      <td>IMG/center_2017_02_16_18_01_31_360.jpg</td>\n",
       "      <td>IMG/left_2017_02_16_18_01_31_360.jpg</td>\n",
       "      <td>IMG/right_2017_02_16_18_01_31_360.jpg</td>\n",
       "      <td>0.0</td>\n",
       "      <td>0.0</td>\n",
       "      <td>0.0</td>\n",
       "      <td>28.08795</td>\n",
       "    </tr>\n",
       "    <tr>\n",
       "      <th>10695</th>\n",
       "      <td>IMG/center_2017_02_16_18_01_31_462.jpg</td>\n",
       "      <td>IMG/left_2017_02_16_18_01_31_462.jpg</td>\n",
       "      <td>IMG/right_2017_02_16_18_01_31_462.jpg</td>\n",
       "      <td>0.0</td>\n",
       "      <td>0.0</td>\n",
       "      <td>0.0</td>\n",
       "      <td>27.80592</td>\n",
       "    </tr>\n",
       "    <tr>\n",
       "      <th>10696</th>\n",
       "      <td>IMG/center_2017_02_16_18_01_31_608.jpg</td>\n",
       "      <td>IMG/left_2017_02_16_18_01_31_608.jpg</td>\n",
       "      <td>IMG/right_2017_02_16_18_01_31_608.jpg</td>\n",
       "      <td>0.0</td>\n",
       "      <td>0.0</td>\n",
       "      <td>0.0</td>\n",
       "      <td>27.41583</td>\n",
       "    </tr>\n",
       "  </tbody>\n",
       "</table>\n",
       "</div>"
      ],
      "text/plain": [
       "                                       center  \\\n",
       "10692  IMG/center_2017_02_16_18_01_31_155.jpg   \n",
       "10693  IMG/center_2017_02_16_18_01_31_257.jpg   \n",
       "10694  IMG/center_2017_02_16_18_01_31_360.jpg   \n",
       "10695  IMG/center_2017_02_16_18_01_31_462.jpg   \n",
       "10696  IMG/center_2017_02_16_18_01_31_608.jpg   \n",
       "\n",
       "                                        left  \\\n",
       "10692   IMG/left_2017_02_16_18_01_31_155.jpg   \n",
       "10693   IMG/left_2017_02_16_18_01_31_257.jpg   \n",
       "10694   IMG/left_2017_02_16_18_01_31_360.jpg   \n",
       "10695   IMG/left_2017_02_16_18_01_31_462.jpg   \n",
       "10696   IMG/left_2017_02_16_18_01_31_608.jpg   \n",
       "\n",
       "                                        right  steering  throttle  brake  \\\n",
       "10692   IMG/right_2017_02_16_18_01_31_155.jpg       0.0       0.0    0.0   \n",
       "10693   IMG/right_2017_02_16_18_01_31_257.jpg       0.0       0.0    0.0   \n",
       "10694   IMG/right_2017_02_16_18_01_31_360.jpg       0.0       0.0    0.0   \n",
       "10695   IMG/right_2017_02_16_18_01_31_462.jpg       0.0       0.0    0.0   \n",
       "10696   IMG/right_2017_02_16_18_01_31_608.jpg       0.0       0.0    0.0   \n",
       "\n",
       "          speed  \n",
       "10692  28.71855  \n",
       "10693  28.43017  \n",
       "10694  28.08795  \n",
       "10695  27.80592  \n",
       "10696  27.41583  "
      ]
     },
     "execution_count": 65,
     "metadata": {},
     "output_type": "execute_result"
    }
   ],
   "source": [
    "df_udacity = pd.read_csv('data/udacity_data/driving_log.csv')\n",
    "df_mine = pd.read_csv('data/my_driving_data/driving_log.csv')\n",
    "df = pd.concat((df_udacity, df_mine))\n",
    "df.reset_index(drop=True, inplace=True)\n",
    "df.tail()"
   ]
  },
  {
   "cell_type": "code",
   "execution_count": 66,
   "metadata": {
    "collapsed": false
   },
   "outputs": [],
   "source": [
    "# Split and shuffle data\n",
    "num_examples = df['center'].count()\n",
    "indexes = np.arange(0, num_examples)\n",
    "np.random.shuffle(indexes)\n",
    "train_indexes, val_indexes = train_test_split(indexes, test_size=0.2)\n",
    "df_train = df.loc[train_indexes]\n",
    "df_val = df.loc[val_indexes]"
   ]
  },
  {
   "cell_type": "markdown",
   "metadata": {},
   "source": [
    "#### Plots"
   ]
  },
  {
   "cell_type": "code",
   "execution_count": 67,
   "metadata": {
    "collapsed": false
   },
   "outputs": [],
   "source": [
    "if flags['show_plots']:    \n",
    "    plt.hist(df['steering'], bins=20)"
   ]
  },
  {
   "cell_type": "code",
   "execution_count": 68,
   "metadata": {
    "collapsed": false
   },
   "outputs": [],
   "source": [
    "if flags['show_plots']:\n",
    "    plt.figure(figsize=(16,5))\n",
    "    plt.plot(df['steering'].values[0:1000])"
   ]
  },
  {
   "cell_type": "code",
   "execution_count": 69,
   "metadata": {
    "collapsed": false
   },
   "outputs": [],
   "source": [
    "if flags['show_images']:\n",
    "    for i in range(3):\n",
    "        index = np.random.choice(df_udacity.index)\n",
    "        filename = 'data/udacity_data/' + df_udacity['center'][index]\n",
    "        image = mpimg.imread(filename)\n",
    "        plt.figure()\n",
    "        plt.imshow(image)"
   ]
  },
  {
   "cell_type": "markdown",
   "metadata": {},
   "source": [
    "## Setup and Train Network"
   ]
  },
  {
   "cell_type": "markdown",
   "metadata": {},
   "source": [
    "#### Data Generator"
   ]
  },
  {
   "cell_type": "code",
   "execution_count": 76,
   "metadata": {
    "collapsed": false
   },
   "outputs": [],
   "source": [
    "def train_generator(df, distribution='uniform'):\n",
    "    binned =  np.digitize(df['steering'].values, np.arange(-1, 1, 0.1))\n",
    "    binned_indexes = []\n",
    "    for i in range(21):\n",
    "        binned_indexes.append([j for j,v in enumerate(binned) if v == i])\n",
    "    valid_bins = [i for i,v in enumerate(binned_indexes) if len(v) > 0]\n",
    "    valid_bins += [11,11,11]\n",
    "    \n",
    "    while True:\n",
    "        images = []\n",
    "        angles = []\n",
    "        for i in range(128):\n",
    "#             bin = np.random.choice(valid_bins)\n",
    "#             index = np.random.choice(binned_indexes[bin])\n",
    "            index = np.random.choice(df.index)\n",
    "            row = df.loc[index]\n",
    "            camera = bool(random.randint(0,3))\n",
    "            if camera == 0:\n",
    "                filename = row['left'].strip()\n",
    "                angle = row['steering'] + 0.25\n",
    "            elif camera in (1,2):\n",
    "                filename = row['center'].strip()\n",
    "                angle = row['steering']\n",
    "            elif camera == 3:\n",
    "                filename = row['right'].strip()\n",
    "                angle = row['steering'] - 0.25\n",
    "            \n",
    "            if '2017_02_16' in filename:\n",
    "                filename = 'data/my_driving_data/' + filename\n",
    "            else:\n",
    "                filename = 'data/udacity_data/' + filename\n",
    "            image = mpimg.imread(filename)\n",
    "\n",
    "            augment = bool(random.randint(0,1))\n",
    "            if augment:\n",
    "                image, angle = augment_image(image, angle)\n",
    "\n",
    "            image = cv2.resize(image, (200, 66))\n",
    "            image = image[np.newaxis, ...]\n",
    "            images.append(image)\n",
    "            angles.append(angle)\n",
    "\n",
    "        batch_x = np.concatenate(images, axis=0)\n",
    "        batch_y = np.array(angles)\n",
    "        yield batch_x, batch_y"
   ]
  },
  {
   "cell_type": "markdown",
   "metadata": {},
   "source": [
    "#### Model and Training"
   ]
  },
  {
   "cell_type": "code",
   "execution_count": 77,
   "metadata": {
    "collapsed": false
   },
   "outputs": [],
   "source": [
    "model = Sequential()\n",
    "\n",
    "model.add(Lambda(lambda x: x / 255 - 0.5, input_shape=(66, 200, 3)))\n",
    "\n",
    "model.add(Convolution2D(24, 5, 5, subsample=(2,2)))\n",
    "model.add(Activation('relu'))\n",
    "\n",
    "model.add(Convolution2D(36, 5, 5, subsample=(2,2)))\n",
    "model.add(Activation('relu'))\n",
    "\n",
    "model.add(Convolution2D(48, 5, 5, subsample=(2,2)))\n",
    "model.add(Activation('relu'))\n",
    "\n",
    "model.add(Convolution2D(64, 3, 3))\n",
    "model.add(Activation('relu'))\n",
    "\n",
    "model.add(Convolution2D(64, 3, 3))\n",
    "model.add(Activation('relu'))\n",
    "model.add(Dropout(flags['dropout']))\n",
    "\n",
    "model.add(Flatten())\n",
    "model.add(Dense(1164))\n",
    "model.add(Activation('relu'))\n",
    "model.add(Dropout(flags['dropout']))\n",
    "\n",
    "model.add(Dense(100))\n",
    "model.add(Activation('relu'))\n",
    "model.add(Dropout(flags['dropout']))\n",
    "\n",
    "model.add(Dense(50))\n",
    "model.add(Activation('relu'))\n",
    "model.add(Dropout(flags['dropout']))\n",
    "\n",
    "model.add(Dense(10))\n",
    "model.add(Activation('relu'))\n",
    "model.add(Dropout(flags['dropout']))\n",
    "\n",
    "model.add(Dense(1))"
   ]
  },
  {
   "cell_type": "code",
   "execution_count": 78,
   "metadata": {
    "collapsed": false
   },
   "outputs": [
    {
     "name": "stdout",
     "output_type": "stream",
     "text": [
      "Epoch 1/3\n",
      "16000/16000 [==============================] - 44s - loss: 0.0270 - val_loss: 0.0171\n",
      "Epoch 2/3\n",
      "16000/16000 [==============================] - 41s - loss: 0.0152 - val_loss: 0.0117\n",
      "Epoch 3/3\n",
      "16000/16000 [==============================] - 41s - loss: 0.0136 - val_loss: 0.0114\n",
      "Training Time (s) 130.39015173912048\n"
     ]
    }
   ],
   "source": [
    "if flags['train_model']:\n",
    "    start = time.time()\n",
    "    adam = Adam()\n",
    "    model.compile(loss='mse', optimizer=adam)\n",
    "    model.fit_generator(train_generator(df_udacity, distribution='uniform'), samples_per_epoch=16000, \n",
    "                        nb_epoch=3, validation_data=train_generator(df_udacity, distribution='uniform'), nb_val_samples=3968)\n",
    "    model.save('model.h5')\n",
    "    end = time.time()\n",
    "    print(\"Training Time (s)\", end - start)"
   ]
  }
 ],
 "metadata": {
  "anaconda-cloud": {},
  "kernelspec": {
   "display_name": "Python 3",
   "language": "python",
   "name": "python3"
  },
  "language_info": {
   "codemirror_mode": {
    "name": "ipython",
    "version": 3
   },
   "file_extension": ".py",
   "mimetype": "text/x-python",
   "name": "python",
   "nbconvert_exporter": "python",
   "pygments_lexer": "ipython3",
   "version": "3.5.2"
  },
  "widgets": {
   "state": {},
   "version": "1.1.2"
  }
 },
 "nbformat": 4,
 "nbformat_minor": 2
}
